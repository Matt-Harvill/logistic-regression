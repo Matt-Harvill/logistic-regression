{
 "cells": [
  {
   "cell_type": "code",
   "execution_count": 154,
   "metadata": {},
   "outputs": [],
   "source": [
    "import numpy as np\n",
    "import pandas as pd\n",
    "from sklearn.model_selection import train_test_split"
   ]
  },
  {
   "cell_type": "code",
   "execution_count": 155,
   "metadata": {},
   "outputs": [],
   "source": [
    "data = pd.read_csv('data_banknote_authentication.csv')\n",
    "data = np.array(data)\n",
    "# print(data[0:5])"
   ]
  },
  {
   "cell_type": "code",
   "execution_count": 156,
   "metadata": {},
   "outputs": [
    {
     "name": "stdout",
     "output_type": "stream",
     "text": [
      "Input Shape: (4, 1028)\n",
      "Output Shape: (1, 1028)\n"
     ]
    }
   ],
   "source": [
    "X, y = data[:,0:-1], data[:,-1].reshape(-1,1)\n",
    "X_train, X_dev, y_train, y_dev = train_test_split(X, y, test_size=0.25, random_state=23)\n",
    "X_train, X_dev, y_train, y_dev  = X_train.T, X_dev.T, y_train.T, y_dev.T\n",
    "print(f'Input Shape: {X_train.shape}\\nOutput Shape: {y_train.shape}')"
   ]
  },
  {
   "cell_type": "code",
   "execution_count": 157,
   "metadata": {},
   "outputs": [
    {
     "name": "stdout",
     "output_type": "stream",
     "text": [
      "Number of features: 4\n",
      "Number of examples: 1028\n"
     ]
    }
   ],
   "source": [
    "# Number of features\n",
    "n = X_train.shape[0]\n",
    "# Number of examples\n",
    "m = X_train.shape[1]\n",
    "print(f\"Number of features: {n}\\nNumber of examples: {m}\")"
   ]
  },
  {
   "cell_type": "code",
   "execution_count": 158,
   "metadata": {},
   "outputs": [],
   "source": [
    "# Sigmoid helper function\n",
    "def sigmoid(z):\n",
    "    return 1 / (1 + np.exp(-z))"
   ]
  },
  {
   "cell_type": "code",
   "execution_count": 159,
   "metadata": {},
   "outputs": [],
   "source": [
    "# Initialize training parameters W and b\n",
    "def initialize_params():\n",
    "    W = np.random.randn(1,n)\n",
    "    b = 0\n",
    "    return W, b"
   ]
  },
  {
   "cell_type": "code",
   "execution_count": 160,
   "metadata": {},
   "outputs": [],
   "source": [
    "# Forward pass\n",
    "def forward_prop(X, W, b):\n",
    "    z = W @ X + b\n",
    "    y_hat = sigmoid(z)\n",
    "    return y_hat"
   ]
  },
  {
   "cell_type": "code",
   "execution_count": 161,
   "metadata": {},
   "outputs": [],
   "source": [
    "# Compute the cost (negative log likelihood)\n",
    "def compute_cost(y_hat, y):\n",
    "    epsilon = 1e-8\n",
    "    J = np.sum(- (y * np.log(y_hat + epsilon)) - ((1 - y) * np.log(1 - y_hat + epsilon)))\n",
    "    return J"
   ]
  },
  {
   "cell_type": "code",
   "execution_count": 162,
   "metadata": {},
   "outputs": [],
   "source": [
    "# Backprop pass\n",
    "def backprop(y, y_hat, X):\n",
    "    dJ__dy_hat = (-y / y_hat) + (1 - y)/(1 - y_hat)\n",
    "    dy_hat__dz = y_hat * (1 - y_hat)\n",
    "    dz__dw = X\n",
    "    dz__db = 1\n",
    "\n",
    "    dJ__dw = (dJ__dy_hat * dy_hat__dz) @ dz__dw.T / m\n",
    "    dJ__db = np.sum(dJ__dy_hat * dy_hat__dz) * dz__db / m\n",
    "\n",
    "    return dJ__dw, dJ__db"
   ]
  },
  {
   "cell_type": "code",
   "execution_count": 163,
   "metadata": {},
   "outputs": [],
   "source": [
    "# Update parameters\n",
    "def update_params(W, b, dJdW, dJdb, alpha):\n",
    "    W = W - alpha * dJdW\n",
    "    b = b - alpha * dJdb\n",
    "    return W, b"
   ]
  },
  {
   "cell_type": "code",
   "execution_count": 164,
   "metadata": {},
   "outputs": [],
   "source": [
    "# Train the logistic regression classifier from pieces above\n",
    "def logistic_regression(X, y, num_iterations=1000, alpha=0.01):\n",
    "\n",
    "    W, b = initialize_params()\n",
    "\n",
    "    for i in range(num_iterations + 1):\n",
    "\n",
    "        y_hat = forward_prop(X, W, b)\n",
    "        J = compute_cost(y_hat, y)\n",
    "        if i % (num_iterations // 10) == 0:\n",
    "            print(f'Iter {i} cost: {J}')\n",
    "        dJdW, dJdb = backprop(y, y_hat, X)\n",
    "        W, b = update_params(W, b, dJdW, dJdb, alpha)\n",
    "\n",
    "    return W, b"
   ]
  },
  {
   "cell_type": "code",
   "execution_count": 165,
   "metadata": {},
   "outputs": [
    {
     "name": "stdout",
     "output_type": "stream",
     "text": [
      "Iter 0 cost: 6160.17124189865\n",
      "Iter 1000 cost: 1942.517830025484\n",
      "Iter 2000 cost: 796.1339917638447\n",
      "Iter 3000 cost: 535.9986130938719\n",
      "Iter 4000 cost: 411.5338656378153\n",
      "Iter 5000 cost: 338.0338311860845\n",
      "Iter 6000 cost: 291.74433624187975\n",
      "Iter 7000 cost: 260.6670614368115\n",
      "Iter 8000 cost: 238.42891495733028\n",
      "Iter 9000 cost: 221.6213721974674\n",
      "Iter 10000 cost: 208.35915683187005\n"
     ]
    }
   ],
   "source": [
    "W, b = logistic_regression(X_train, y_train, num_iterations=10000, alpha=0.0003)"
   ]
  },
  {
   "cell_type": "code",
   "execution_count": 166,
   "metadata": {},
   "outputs": [],
   "source": [
    "def compute_accuracy(y, y_preds):\n",
    "    total = y_preds.shape[1]\n",
    "    correct = np.sum(abs(y_preds - y) < 0.5)\n",
    "    return correct / total"
   ]
  },
  {
   "cell_type": "code",
   "execution_count": 167,
   "metadata": {},
   "outputs": [
    {
     "name": "stdout",
     "output_type": "stream",
     "text": [
      "Dev set accuracy: 0.9212827988338192\n"
     ]
    }
   ],
   "source": [
    "y_dev_preds = forward_prop(X_dev, W, b)\n",
    "\n",
    "accuracy = compute_accuracy(y_dev, y_dev_preds)\n",
    "print(f'Dev set accuracy: {accuracy}')"
   ]
  },
  {
   "cell_type": "code",
   "execution_count": null,
   "metadata": {},
   "outputs": [],
   "source": []
  }
 ],
 "metadata": {
  "kernelspec": {
   "display_name": "Python 3.9.12 ('base')",
   "language": "python",
   "name": "python3"
  },
  "language_info": {
   "codemirror_mode": {
    "name": "ipython",
    "version": 3
   },
   "file_extension": ".py",
   "mimetype": "text/x-python",
   "name": "python",
   "nbconvert_exporter": "python",
   "pygments_lexer": "ipython3",
   "version": "3.9.12"
  },
  "orig_nbformat": 4,
  "vscode": {
   "interpreter": {
    "hash": "a3c37e7769e69d88f560728274ac31117419b08426e8f556e7d6b1fc46089862"
   }
  }
 },
 "nbformat": 4,
 "nbformat_minor": 2
}
